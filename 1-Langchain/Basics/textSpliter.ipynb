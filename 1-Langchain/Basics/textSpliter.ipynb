{
 "cells": [
  {
   "cell_type": "code",
   "execution_count": 1,
   "id": "823eb2a7",
   "metadata": {},
   "outputs": [
    {
     "data": {
      "text/plain": [
       "[Document(page_content='', metadata={'source': 'Attention+Mechanism.pdf', 'page': 0}),\n",
       " Document(page_content='', metadata={'source': 'Attention+Mechanism.pdf', 'page': 1}),\n",
       " Document(page_content='', metadata={'source': 'Attention+Mechanism.pdf', 'page': 2}),\n",
       " Document(page_content='', metadata={'source': 'Attention+Mechanism.pdf', 'page': 3}),\n",
       " Document(page_content='', metadata={'source': 'Attention+Mechanism.pdf', 'page': 4})]"
      ]
     },
     "execution_count": 1,
     "metadata": {},
     "output_type": "execute_result"
    }
   ],
   "source": [
    "from langchain_community.document_loaders import PyPDFLoader\n",
    "loader=PyPDFLoader(\"Attention+Mechanism.pdf\")\n",
    "docs=loader.load()\n",
    "type(docs)\n",
    "docs"
   ]
  },
  {
   "cell_type": "code",
   "execution_count": 2,
   "id": "36e967a5",
   "metadata": {},
   "outputs": [
    {
     "data": {
      "text/plain": [
       "[]"
      ]
     },
     "execution_count": 2,
     "metadata": {},
     "output_type": "execute_result"
    }
   ],
   "source": [
    "###How to recurcively split by characters\n",
    "from langchain_text_splitters import RecursiveCharacterTextSplitter\n",
    "\n",
    "text_splitter=RecursiveCharacterTextSplitter(chunk_size=500,chunk_overlap=50)\n",
    "# Extract text content from each Document\n",
    "texts = [doc.page_content for doc in docs]\n",
    "final_documents = text_splitter.split_documents(docs)\n",
    "final_documents"
   ]
  },
  {
   "cell_type": "code",
   "execution_count": 3,
   "id": "e0411ef1",
   "metadata": {},
   "outputs": [
    {
     "data": {
      "text/plain": [
       "[Document(page_content=\"Long years ago, we made a tryst with destiny.\\nNow the time has come when we shall redeem our pledge - not wholly or in full measure - but very substantially. \\n\\nAt the stroke of the midnight hour, when the world sleeps, India will awake to life and freedom. \\nA moment comes, but rarely in history, when we step out from the old to the new, when an age ends, and when the soul of a nation, long suppressed, finds utterance.\\n\\n\\nHis speech went on to pay homage to Mahatma Gandhi's efforts in the Independence Movement and called upon his countrymen to work together to bring freedom and opportunity to the common man, to the peasants and workers of India;\\nto fight and end poverty and ignorance and disease; to build up a prosperous, democratic and progressive nation, and to create social, economic and political institutions which will ensure justice and fullness of life to every man and woman.\", metadata={'source': 'speech.txt'})]"
      ]
     },
     "execution_count": 3,
     "metadata": {},
     "output_type": "execute_result"
    }
   ],
   "source": [
    "###Text Loader\n",
    "\n",
    "from langchain_community.document_loaders import TextLoader\n",
    "\n",
    "loader=TextLoader(\"speech.txt\")\n",
    "docs=loader.load()\n",
    "docs"
   ]
  },
  {
   "cell_type": "code",
   "execution_count": 4,
   "id": "739bb4ce",
   "metadata": {},
   "outputs": [
    {
     "name": "stdout",
     "output_type": "stream",
     "text": [
      "page_content='Long years ago, we made a tryst with destiny.\\nNow the time has come when we shall redeem our pledge - not wholly or in full measure - but very substantially.'\n"
     ]
    }
   ],
   "source": [
    "with open(\"speech.txt\") as file:\n",
    "    speech=file.read()\n",
    "speech\n",
    "\n",
    "text_splitter=RecursiveCharacterTextSplitter(chunk_size=200,chunk_overlap=10)\n",
    "text=text_splitter.create_documents([speech])\n",
    "print(text[0])"
   ]
  },
  {
   "cell_type": "code",
   "execution_count": 5,
   "id": "d8acd9d0",
   "metadata": {},
   "outputs": [
    {
     "name": "stderr",
     "output_type": "stream",
     "text": [
      "Created a chunk of size 158, which is longer than the specified 100\n",
      "Created a chunk of size 261, which is longer than the specified 100\n"
     ]
    },
    {
     "data": {
      "text/plain": [
       "[Document(page_content='Long years ago, we made a tryst with destiny.\\nNow the time has come when we shall redeem our pledge - not wholly or in full measure - but very substantially.', metadata={'source': 'speech.txt'}),\n",
       " Document(page_content='At the stroke of the midnight hour, when the world sleeps, India will awake to life and freedom. \\nA moment comes, but rarely in history, when we step out from the old to the new, when an age ends, and when the soul of a nation, long suppressed, finds utterance.', metadata={'source': 'speech.txt'}),\n",
       " Document(page_content=\"His speech went on to pay homage to Mahatma Gandhi's efforts in the Independence Movement and called upon his countrymen to work together to bring freedom and opportunity to the common man, to the peasants and workers of India;\\nto fight and end poverty and ignorance and disease; to build up a prosperous, democratic and progressive nation, and to create social, economic and political institutions which will ensure justice and fullness of life to every man and woman.\", metadata={'source': 'speech.txt'})]"
      ]
     },
     "execution_count": 5,
     "metadata": {},
     "output_type": "execute_result"
    }
   ],
   "source": [
    "from langchain_text_splitters import CharacterTextSplitter\n",
    "text_splitter=CharacterTextSplitter(separator=\"\\n\\n\",chunk_size=100,chunk_overlap=20)\n",
    "text_splitter.split_documents(docs)"
   ]
  },
  {
   "cell_type": "code",
   "execution_count": 6,
   "id": "6d39945b",
   "metadata": {},
   "outputs": [
    {
     "name": "stdout",
     "output_type": "stream",
     "text": [
      "page_content='Long years ago, we made a tryst with destiny.\\nNow the time has come when we shall redeem our pledge - not wholly or in full measure - but very substantially.'\n"
     ]
    }
   ],
   "source": [
    "with open(\"speech.txt\") as file:\n",
    "    speech=file.read()\n",
    "speech\n",
    "\n",
    "text_splitter=RecursiveCharacterTextSplitter(chunk_size=200,chunk_overlap=10)\n",
    "text=text_splitter.create_documents([speech])\n",
    "print(text[0])"
   ]
  },
  {
   "cell_type": "code",
   "execution_count": 7,
   "id": "2a62249a",
   "metadata": {},
   "outputs": [],
   "source": [
    "from langchain_text_splitters import HTMLHeaderTextSplitter"
   ]
  },
  {
   "cell_type": "code",
   "execution_count": null,
   "id": "2a93ac2f",
   "metadata": {},
   "outputs": [],
   "source": []
  }
 ],
 "metadata": {
  "kernelspec": {
   "display_name": "venv",
   "language": "python",
   "name": "python3"
  },
  "language_info": {
   "codemirror_mode": {
    "name": "ipython",
    "version": 3
   },
   "file_extension": ".py",
   "mimetype": "text/x-python",
   "name": "python",
   "nbconvert_exporter": "python",
   "pygments_lexer": "ipython3",
   "version": "3.12.0"
  }
 },
 "nbformat": 4,
 "nbformat_minor": 5
}

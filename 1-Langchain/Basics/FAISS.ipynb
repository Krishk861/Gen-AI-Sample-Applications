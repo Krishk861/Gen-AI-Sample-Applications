{
 "cells": [
  {
   "cell_type": "markdown",
   "id": "9af56f88",
   "metadata": {},
   "source": [
    "FAISS stands for Facebook AI Similarity Search"
   ]
  },
  {
   "cell_type": "code",
   "execution_count": 1,
   "id": "db1b2d41",
   "metadata": {},
   "outputs": [
    {
     "name": "stderr",
     "output_type": "stream",
     "text": [
      "C:\\Users\\krish\\AppData\\Local\\Programs\\Python\\Python312\\Lib\\importlib\\__init__.py:90: LangChainDeprecationWarning: As of langchain-core 0.3.0, LangChain uses pydantic v2 internally. The langchain_core.pydantic_v1 module was a compatibility shim for pydantic v1, and should no longer be used. Please update the code to import from Pydantic directly.\n",
      "\n",
      "For example, replace imports like: `from langchain_core.pydantic_v1 import BaseModel`\n",
      "with: `from pydantic import BaseModel`\n",
      "or the v1 compatibility namespace if you are working in a code base that has not been fully upgraded to pydantic 2 yet. \tfrom pydantic.v1 import BaseModel\n",
      "\n",
      "  return _bootstrap._gcd_import(name[level:], package, level)\n",
      "Created a chunk of size 261, which is longer than the specified 200\n"
     ]
    },
    {
     "data": {
      "text/plain": [
       "[Document(metadata={'source': 'speech.txt'}, page_content='Long years ago, we made a tryst with destiny.\\nNow the time has come when we shall redeem our pledge - not wholly or in full measure - but very substantially.'),\n",
       " Document(metadata={'source': 'speech.txt'}, page_content='At the stroke of the midnight hour, when the world sleeps, India will awake to life and freedom. \\nA moment comes, but rarely in history, when we step out from the old to the new, when an age ends, and when the soul of a nation, long suppressed, finds utterance.'),\n",
       " Document(metadata={'source': 'speech.txt'}, page_content=\"His speech went on to pay homage to Mahatma Gandhi's efforts in the Independence Movement and called upon his countrymen to work together to bring freedom and opportunity to the common man, to the peasants and workers of India;\\nto fight and end poverty and ignorance and disease; to build up a prosperous, democratic and progressive nation, and to create social, economic and political institutions which will ensure justice and fullness of life to every man and woman.\")]"
      ]
     },
     "execution_count": 1,
     "metadata": {},
     "output_type": "execute_result"
    }
   ],
   "source": [
    "from langchain_community.document_loaders import TextLoader\n",
    "from langchain_community.vectorstores import FAISS\n",
    "from langchain_community.embeddings import OllamaEmbeddings\n",
    "from langchain_text_splitters import CharacterTextSplitter\n",
    "\n",
    "loader=TextLoader(\"speech.txt\")\n",
    "documents=loader.load()\n",
    "text_splitter=CharacterTextSplitter(chunk_size=200,chunk_overlap=30)\n",
    "docs=text_splitter.split_documents(documents)\n",
    "docs"
   ]
  },
  {
   "cell_type": "code",
   "execution_count": 5,
   "id": "b25ef2b6",
   "metadata": {},
   "outputs": [
    {
     "name": "stdout",
     "output_type": "stream",
     "text": [
      "Collecting faiss-cpu\n",
      "  Using cached faiss_cpu-1.11.0.post1-cp312-cp312-win_amd64.whl.metadata (5.1 kB)\n",
      "Requirement already satisfied: numpy<3.0,>=1.25.0 in c:\\code\\langchain\\venv\\lib\\site-packages (from faiss-cpu) (1.26.4)\n",
      "Requirement already satisfied: packaging in c:\\code\\langchain\\venv\\lib\\site-packages (from faiss-cpu) (23.2)\n",
      "Using cached faiss_cpu-1.11.0.post1-cp312-cp312-win_amd64.whl (14.9 MB)\n",
      "Installing collected packages: faiss-cpu\n",
      "Successfully installed faiss-cpu-1.11.0.post1\n"
     ]
    },
    {
     "data": {
      "text/plain": [
       "<langchain_community.vectorstores.faiss.FAISS at 0x1d9fd88ca40>"
      ]
     },
     "execution_count": 5,
     "metadata": {},
     "output_type": "execute_result"
    }
   ],
   "source": [
    "!pip install faiss-cpu\n",
    "embeddings=OllamaEmbeddings()\n",
    "db= FAISS.from_documents(docs,embeddings)\n",
    "db"
   ]
  },
  {
   "cell_type": "code",
   "execution_count": 9,
   "id": "7a0b35a5",
   "metadata": {},
   "outputs": [
    {
     "data": {
      "text/plain": [
       "\"His speech went on to pay homage to Mahatma Gandhi's efforts in the Independence Movement and called upon his countrymen to work together to bring freedom and opportunity to the common man, to the peasants and workers of India;\\nto fight and end poverty and ignorance and disease; to build up a prosperous, democratic and progressive nation, and to create social, economic and political institutions which will ensure justice and fullness of life to every man and woman.\""
      ]
     },
     "execution_count": 9,
     "metadata": {},
     "output_type": "execute_result"
    }
   ],
   "source": [
    "## queryinng\n",
    "query=\"In how many years,did we made a Tryst With Destiny?\"\n",
    "docs=db.similarity_search(query)\n",
    "docs[0].page_content"
   ]
  },
  {
   "cell_type": "code",
   "execution_count": 12,
   "id": "91a704a3",
   "metadata": {},
   "outputs": [
    {
     "data": {
      "text/plain": [
       "\"His speech went on to pay homage to Mahatma Gandhi's efforts in the Independence Movement and called upon his countrymen to work together to bring freedom and opportunity to the common man, to the peasants and workers of India;\\nto fight and end poverty and ignorance and disease; to build up a prosperous, democratic and progressive nation, and to create social, economic and political institutions which will ensure justice and fullness of life to every man and woman.\""
      ]
     },
     "execution_count": 12,
     "metadata": {},
     "output_type": "execute_result"
    }
   ],
   "source": [
    "###Retriver\n",
    "retriever=db.as_retriever()\n",
    "retriever.invoke(query)\n",
    "docs[0].page_content"
   ]
  },
  {
   "cell_type": "code",
   "execution_count": 14,
   "id": "6a9b4f58",
   "metadata": {},
   "outputs": [
    {
     "data": {
      "text/plain": [
       "[(Document(metadata={'source': 'speech.txt'}, page_content=\"His speech went on to pay homage to Mahatma Gandhi's efforts in the Independence Movement and called upon his countrymen to work together to bring freedom and opportunity to the common man, to the peasants and workers of India;\\nto fight and end poverty and ignorance and disease; to build up a prosperous, democratic and progressive nation, and to create social, economic and political institutions which will ensure justice and fullness of life to every man and woman.\"),\n",
       "  8644.534),\n",
       " (Document(metadata={'source': 'speech.txt'}, page_content='At the stroke of the midnight hour, when the world sleeps, India will awake to life and freedom. \\nA moment comes, but rarely in history, when we step out from the old to the new, when an age ends, and when the soul of a nation, long suppressed, finds utterance.'),\n",
       "  15306.783),\n",
       " (Document(metadata={'source': 'speech.txt'}, page_content='Long years ago, we made a tryst with destiny.\\nNow the time has come when we shall redeem our pledge - not wholly or in full measure - but very substantially.'),\n",
       "  17085.22)]"
      ]
     },
     "execution_count": 14,
     "metadata": {},
     "output_type": "execute_result"
    }
   ],
   "source": [
    "docs_and_score=db.similarity_search_with_score(query)\n",
    "docs_and_score"
   ]
  },
  {
   "cell_type": "code",
   "execution_count": 16,
   "id": "27c69aab",
   "metadata": {},
   "outputs": [
    {
     "data": {
      "text/plain": [
       "[Document(metadata={'source': 'speech.txt'}, page_content=\"His speech went on to pay homage to Mahatma Gandhi's efforts in the Independence Movement and called upon his countrymen to work together to bring freedom and opportunity to the common man, to the peasants and workers of India;\\nto fight and end poverty and ignorance and disease; to build up a prosperous, democratic and progressive nation, and to create social, economic and political institutions which will ensure justice and fullness of life to every man and woman.\"),\n",
       " Document(metadata={'source': 'speech.txt'}, page_content='At the stroke of the midnight hour, when the world sleeps, India will awake to life and freedom. \\nA moment comes, but rarely in history, when we step out from the old to the new, when an age ends, and when the soul of a nation, long suppressed, finds utterance.'),\n",
       " Document(metadata={'source': 'speech.txt'}, page_content='Long years ago, we made a tryst with destiny.\\nNow the time has come when we shall redeem our pledge - not wholly or in full measure - but very substantially.')]"
      ]
     },
     "execution_count": 16,
     "metadata": {},
     "output_type": "execute_result"
    }
   ],
   "source": [
    "embeddings_vector=embeddings.embed_query(query)\n",
    "docs_score=db.similarity_search_by_vector(embeddings_vector)\n",
    "docs_score"
   ]
  },
  {
   "cell_type": "code",
   "execution_count": 17,
   "id": "07066efb",
   "metadata": {},
   "outputs": [],
   "source": [
    "##Saving and Load\n",
    "db.save_local(\"faiss_index\")"
   ]
  },
  {
   "cell_type": "code",
   "execution_count": 21,
   "id": "2f8e53b2",
   "metadata": {},
   "outputs": [
    {
     "data": {
      "text/plain": [
       "[Document(metadata={'source': 'speech.txt'}, page_content=\"His speech went on to pay homage to Mahatma Gandhi's efforts in the Independence Movement and called upon his countrymen to work together to bring freedom and opportunity to the common man, to the peasants and workers of India;\\nto fight and end poverty and ignorance and disease; to build up a prosperous, democratic and progressive nation, and to create social, economic and political institutions which will ensure justice and fullness of life to every man and woman.\"),\n",
       " Document(metadata={'source': 'speech.txt'}, page_content='At the stroke of the midnight hour, when the world sleeps, India will awake to life and freedom. \\nA moment comes, but rarely in history, when we step out from the old to the new, when an age ends, and when the soul of a nation, long suppressed, finds utterance.'),\n",
       " Document(metadata={'source': 'speech.txt'}, page_content='Long years ago, we made a tryst with destiny.\\nNow the time has come when we shall redeem our pledge - not wholly or in full measure - but very substantially.')]"
      ]
     },
     "execution_count": 21,
     "metadata": {},
     "output_type": "execute_result"
    }
   ],
   "source": [
    "new_db=FAISS.load_local(\"faiss_index\",embeddings,allow_dangerous_deserialization=True)\n",
    "docs=new_db.similarity_search(query)\n",
    "docs"
   ]
  },
  {
   "cell_type": "code",
   "execution_count": null,
   "id": "2c5d4eb2",
   "metadata": {},
   "outputs": [],
   "source": []
  }
 ],
 "metadata": {
  "kernelspec": {
   "display_name": "venv",
   "language": "python",
   "name": "python3"
  },
  "language_info": {
   "codemirror_mode": {
    "name": "ipython",
    "version": 3
   },
   "file_extension": ".py",
   "mimetype": "text/x-python",
   "name": "python",
   "nbconvert_exporter": "python",
   "pygments_lexer": "ipython3",
   "version": "3.12.0"
  }
 },
 "nbformat": 4,
 "nbformat_minor": 5
}
